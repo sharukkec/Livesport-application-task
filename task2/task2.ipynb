{
 "cells": [
  {
   "cell_type": "markdown",
   "id": "394262df",
   "metadata": {},
   "source": [
    "# Task blablabla"
   ]
  },
  {
   "cell_type": "markdown",
   "id": "b93d0e10",
   "metadata": {},
   "source": [
    "import all needed libraries:"
   ]
  },
  {
   "cell_type": "code",
   "execution_count": 76,
   "id": "80447bbb",
   "metadata": {},
   "outputs": [],
   "source": [
    "import os \n",
    "import pandas as pd\n",
    "import numpy as np\n",
    "from langdetect import detect\n",
    "from sklearn.model_selection import train_test_split, ParameterGrid\n",
    "from sklearn.pipeline import Pipeline, FeatureUnion\n",
    "from sklearn.base import BaseEstimator, TransformerMixin\n",
    "from sklearn.feature_extraction.text import TfidfVectorizer\n",
    "from sklearn.preprocessing import OneHotEncoder, StandardScaler, MinMaxScaler, LabelEncoder\n",
    "from sklearn.ensemble import RandomForestClassifier\n",
    "from sklearn.metrics import accuracy_score\n",
    "from sklearn.compose import ColumnTransformer\n",
    "\n",
    "from sklearn.linear_model import LogisticRegression\n",
    "\n",
    "# set random seed\n",
    "seed = 666\n"
   ]
  },
  {
   "cell_type": "markdown",
   "id": "513074b7",
   "metadata": {},
   "source": [
    "## Inital data preprocessing "
   ]
  },
  {
   "cell_type": "markdown",
   "id": "3e76c4f4",
   "metadata": {},
   "source": [
    "Load all csv files and merge them all into one data frame:"
   ]
  },
  {
   "cell_type": "code",
   "execution_count": 77,
   "id": "64b51da1",
   "metadata": {},
   "outputs": [],
   "source": [
    "folder_path = \"./data\" \n",
    "csv_files = [f for f in os.listdir(folder_path) if f.endswith('.csv')]"
   ]
  },
  {
   "cell_type": "code",
   "execution_count": 78,
   "id": "3376e3f1",
   "metadata": {},
   "outputs": [
    {
     "data": {
      "text/html": [
       "<div>\n",
       "<style scoped>\n",
       "    .dataframe tbody tr th:only-of-type {\n",
       "        vertical-align: middle;\n",
       "    }\n",
       "\n",
       "    .dataframe tbody tr th {\n",
       "        vertical-align: top;\n",
       "    }\n",
       "\n",
       "    .dataframe thead th {\n",
       "        text-align: right;\n",
       "    }\n",
       "</style>\n",
       "<table border=\"1\" class=\"dataframe\">\n",
       "  <thead>\n",
       "    <tr style=\"text-align: right;\">\n",
       "      <th></th>\n",
       "      <th>title</th>\n",
       "      <th>perex</th>\n",
       "      <th>label</th>\n",
       "    </tr>\n",
       "  </thead>\n",
       "  <tbody>\n",
       "    <tr>\n",
       "      <th>0</th>\n",
       "      <td>Realu se vážně zranil Asensio. Ceballos by měl...</td>\n",
       "      <td>Real Madrid potenciálně na celý ročník 2019/20...</td>\n",
       "      <td>Injuries</td>\n",
       "    </tr>\n",
       "    <tr>\n",
       "      <th>1</th>\n",
       "      <td>Problémy s koleny dohnaly Richardse k brzkému ...</td>\n",
       "      <td>Už ve 31 letech dohnaly neustálé problémy s ko...</td>\n",
       "      <td>Injuries</td>\n",
       "    </tr>\n",
       "    <tr>\n",
       "      <th>2</th>\n",
       "      <td>Verletzungspech bei Real - Kreuzband-Schock fü...</td>\n",
       "      <td>Schock bei Real Madrid! Marco Asensio erlitt i...</td>\n",
       "      <td>Injuries</td>\n",
       "    </tr>\n",
       "    <tr>\n",
       "      <th>3</th>\n",
       "      <td>Man Utd star Eric Bailly to miss ‘at least six...</td>\n",
       "      <td>MANCHESTER UNITED star Eric Bailly is set to m...</td>\n",
       "      <td>Injuries</td>\n",
       "    </tr>\n",
       "    <tr>\n",
       "      <th>4</th>\n",
       "      <td>Вутов под въпрос за мача с Левски</td>\n",
       "      <td>Един от основните футболисти на Ботев (Пловдив...</td>\n",
       "      <td>Injuries</td>\n",
       "    </tr>\n",
       "  </tbody>\n",
       "</table>\n",
       "</div>"
      ],
      "text/plain": [
       "                                               title  \\\n",
       "0  Realu se vážně zranil Asensio. Ceballos by měl...   \n",
       "1  Problémy s koleny dohnaly Richardse k brzkému ...   \n",
       "2  Verletzungspech bei Real - Kreuzband-Schock fü...   \n",
       "3  Man Utd star Eric Bailly to miss ‘at least six...   \n",
       "4                  Вутов под въпрос за мача с Левски   \n",
       "\n",
       "                                               perex     label  \n",
       "0  Real Madrid potenciálně na celý ročník 2019/20...  Injuries  \n",
       "1  Už ve 31 letech dohnaly neustálé problémy s ko...  Injuries  \n",
       "2  Schock bei Real Madrid! Marco Asensio erlitt i...  Injuries  \n",
       "3  MANCHESTER UNITED star Eric Bailly is set to m...  Injuries  \n",
       "4  Един от основните футболисти на Ботев (Пловдив...  Injuries  "
      ]
     },
     "execution_count": 78,
     "metadata": {},
     "output_type": "execute_result"
    }
   ],
   "source": [
    "df = pd.concat([pd.read_csv(os.path.join(folder_path, f)) for f in csv_files],\n",
    "                      ignore_index=True)\n",
    "\n",
    "# show the some of the df data\n",
    "df.head()"
   ]
  },
  {
   "cell_type": "code",
   "execution_count": 79,
   "id": "7ce3bc07",
   "metadata": {},
   "outputs": [
    {
     "name": "stdout",
     "output_type": "stream",
     "text": [
      "<class 'pandas.core.frame.DataFrame'>\n",
      "RangeIndex: 1500 entries, 0 to 1499\n",
      "Data columns (total 3 columns):\n",
      " #   Column  Non-Null Count  Dtype \n",
      "---  ------  --------------  ----- \n",
      " 0   title   1500 non-null   object\n",
      " 1   perex   1499 non-null   object\n",
      " 2   label   1500 non-null   object\n",
      "dtypes: object(3)\n",
      "memory usage: 35.3+ KB\n"
     ]
    }
   ],
   "source": [
    "df.info()"
   ]
  },
  {
   "cell_type": "markdown",
   "id": "f674a2d2",
   "metadata": {},
   "source": [
    "Preprocess the data:"
   ]
  },
  {
   "cell_type": "markdown",
   "id": "d25e33d3",
   "metadata": {},
   "source": [
    "Show number of NaN values:"
   ]
  },
  {
   "cell_type": "code",
   "execution_count": 80,
   "id": "f4a733f9",
   "metadata": {},
   "outputs": [
    {
     "name": "stdout",
     "output_type": "stream",
     "text": [
      "title    0\n",
      "perex    1\n",
      "label    0\n",
      "dtype: int64\n"
     ]
    }
   ],
   "source": [
    "print(df.isna().sum())"
   ]
  },
  {
   "cell_type": "markdown",
   "id": "88c627fe",
   "metadata": {},
   "source": [
    "Replace NaN values with \"\" for better data consistency:"
   ]
  },
  {
   "cell_type": "code",
   "execution_count": 81,
   "id": "aa69d617",
   "metadata": {},
   "outputs": [
    {
     "name": "stdout",
     "output_type": "stream",
     "text": [
      "title    0\n",
      "perex    0\n",
      "label    0\n",
      "dtype: int64\n"
     ]
    }
   ],
   "source": [
    "df['perex'] = df['perex'].fillna(\"\") \n",
    "print(df.isna().sum())"
   ]
  },
  {
   "cell_type": "markdown",
   "id": "663ce8dd",
   "metadata": {},
   "source": [
    "Generate more parameters:"
   ]
  },
  {
   "cell_type": "code",
   "execution_count": 82,
   "id": "f352ffe5",
   "metadata": {},
   "outputs": [],
   "source": [
    "# add perex world count\n",
    "df['perex_word_count'] = df['perex'].str.split().apply(len)"
   ]
  },
  {
   "cell_type": "code",
   "execution_count": 83,
   "id": "d2f954db",
   "metadata": {},
   "outputs": [
    {
     "data": {
      "text/html": [
       "<div>\n",
       "<style scoped>\n",
       "    .dataframe tbody tr th:only-of-type {\n",
       "        vertical-align: middle;\n",
       "    }\n",
       "\n",
       "    .dataframe tbody tr th {\n",
       "        vertical-align: top;\n",
       "    }\n",
       "\n",
       "    .dataframe thead th {\n",
       "        text-align: right;\n",
       "    }\n",
       "</style>\n",
       "<table border=\"1\" class=\"dataframe\">\n",
       "  <thead>\n",
       "    <tr style=\"text-align: right;\">\n",
       "      <th></th>\n",
       "      <th>title</th>\n",
       "      <th>perex</th>\n",
       "      <th>label</th>\n",
       "      <th>perex_word_count</th>\n",
       "    </tr>\n",
       "  </thead>\n",
       "  <tbody>\n",
       "    <tr>\n",
       "      <th>0</th>\n",
       "      <td>Realu se vážně zranil Asensio. Ceballos by měl...</td>\n",
       "      <td>Real Madrid potenciálně na celý ročník 2019/20...</td>\n",
       "      <td>Injuries</td>\n",
       "      <td>40</td>\n",
       "    </tr>\n",
       "    <tr>\n",
       "      <th>1</th>\n",
       "      <td>Problémy s koleny dohnaly Richardse k brzkému ...</td>\n",
       "      <td>Už ve 31 letech dohnaly neustálé problémy s ko...</td>\n",
       "      <td>Injuries</td>\n",
       "      <td>34</td>\n",
       "    </tr>\n",
       "    <tr>\n",
       "      <th>2</th>\n",
       "      <td>Verletzungspech bei Real - Kreuzband-Schock fü...</td>\n",
       "      <td>Schock bei Real Madrid! Marco Asensio erlitt i...</td>\n",
       "      <td>Injuries</td>\n",
       "      <td>24</td>\n",
       "    </tr>\n",
       "    <tr>\n",
       "      <th>3</th>\n",
       "      <td>Man Utd star Eric Bailly to miss ‘at least six...</td>\n",
       "      <td>MANCHESTER UNITED star Eric Bailly is set to m...</td>\n",
       "      <td>Injuries</td>\n",
       "      <td>57</td>\n",
       "    </tr>\n",
       "    <tr>\n",
       "      <th>4</th>\n",
       "      <td>Вутов под въпрос за мача с Левски</td>\n",
       "      <td>Един от основните футболисти на Ботев (Пловдив...</td>\n",
       "      <td>Injuries</td>\n",
       "      <td>22</td>\n",
       "    </tr>\n",
       "  </tbody>\n",
       "</table>\n",
       "</div>"
      ],
      "text/plain": [
       "                                               title  \\\n",
       "0  Realu se vážně zranil Asensio. Ceballos by měl...   \n",
       "1  Problémy s koleny dohnaly Richardse k brzkému ...   \n",
       "2  Verletzungspech bei Real - Kreuzband-Schock fü...   \n",
       "3  Man Utd star Eric Bailly to miss ‘at least six...   \n",
       "4                  Вутов под въпрос за мача с Левски   \n",
       "\n",
       "                                               perex     label  \\\n",
       "0  Real Madrid potenciálně na celý ročník 2019/20...  Injuries   \n",
       "1  Už ve 31 letech dohnaly neustálé problémy s ko...  Injuries   \n",
       "2  Schock bei Real Madrid! Marco Asensio erlitt i...  Injuries   \n",
       "3  MANCHESTER UNITED star Eric Bailly is set to m...  Injuries   \n",
       "4  Един от основните футболисти на Ботев (Пловдив...  Injuries   \n",
       "\n",
       "   perex_word_count  \n",
       "0                40  \n",
       "1                34  \n",
       "2                24  \n",
       "3                57  \n",
       "4                22  "
      ]
     },
     "execution_count": 83,
     "metadata": {},
     "output_type": "execute_result"
    }
   ],
   "source": [
    "df.head()"
   ]
  },
  {
   "cell_type": "markdown",
   "id": "cd749b15",
   "metadata": {},
   "source": [
    "Try adding column representing language of the text:"
   ]
  },
  {
   "cell_type": "code",
   "execution_count": 84,
   "id": "01405ea6",
   "metadata": {},
   "outputs": [],
   "source": [
    "# detect language from title and perex\n",
    "df[\"language\"] = (df['title'] + \" \" + df['perex']).apply(lambda x: detect(x) if x else 'unknown')"
   ]
  },
  {
   "cell_type": "markdown",
   "id": "2f14aae6",
   "metadata": {},
   "source": [
    "We got 27 distinct languages detected with 0 NaN values:"
   ]
  },
  {
   "cell_type": "code",
   "execution_count": 85,
   "id": "ad9af0f8",
   "metadata": {},
   "outputs": [
    {
     "name": "stdout",
     "output_type": "stream",
     "text": [
      "['cs' 'de' 'en' 'bg' 'pl' 'nl' 'it' 'fr' 'el' 'pt' 'ru' 'sv' 'hu' 'hr'\n",
      " 'ja' 'sk' 'vi' 'id' 'ro' 'sl' 'no' 'ko' 'da' 'tr' 'fi' 'et' 'ca' 'lt']\n",
      "28\n",
      "title               0\n",
      "perex               0\n",
      "label               0\n",
      "perex_word_count    0\n",
      "language            0\n",
      "dtype: int64\n",
      "<class 'pandas.core.frame.DataFrame'>\n",
      "RangeIndex: 1500 entries, 0 to 1499\n",
      "Data columns (total 5 columns):\n",
      " #   Column            Non-Null Count  Dtype \n",
      "---  ------            --------------  ----- \n",
      " 0   title             1500 non-null   object\n",
      " 1   perex             1500 non-null   object\n",
      " 2   label             1500 non-null   object\n",
      " 3   perex_word_count  1500 non-null   int64 \n",
      " 4   language          1500 non-null   object\n",
      "dtypes: int64(1), object(4)\n",
      "memory usage: 58.7+ KB\n",
      "None\n"
     ]
    }
   ],
   "source": [
    "print(df[\"language\"].unique())\n",
    "print(len(df[\"language\"].unique()))\n",
    "print(df.isna().sum())\n",
    "print(df.info())"
   ]
  },
  {
   "cell_type": "markdown",
   "id": "27f09984",
   "metadata": {},
   "source": [
    "One-hot encode the 'language' column"
   ]
  },
  {
   "cell_type": "code",
   "execution_count": 86,
   "id": "be044803",
   "metadata": {},
   "outputs": [
    {
     "data": {
      "text/html": [
       "<div>\n",
       "<style scoped>\n",
       "    .dataframe tbody tr th:only-of-type {\n",
       "        vertical-align: middle;\n",
       "    }\n",
       "\n",
       "    .dataframe tbody tr th {\n",
       "        vertical-align: top;\n",
       "    }\n",
       "\n",
       "    .dataframe thead th {\n",
       "        text-align: right;\n",
       "    }\n",
       "</style>\n",
       "<table border=\"1\" class=\"dataframe\">\n",
       "  <thead>\n",
       "    <tr style=\"text-align: right;\">\n",
       "      <th></th>\n",
       "      <th>title</th>\n",
       "      <th>perex</th>\n",
       "      <th>label</th>\n",
       "      <th>perex_word_count</th>\n",
       "      <th>lang_bg</th>\n",
       "      <th>lang_ca</th>\n",
       "      <th>lang_cs</th>\n",
       "      <th>lang_da</th>\n",
       "      <th>lang_de</th>\n",
       "      <th>lang_el</th>\n",
       "      <th>...</th>\n",
       "      <th>lang_no</th>\n",
       "      <th>lang_pl</th>\n",
       "      <th>lang_pt</th>\n",
       "      <th>lang_ro</th>\n",
       "      <th>lang_ru</th>\n",
       "      <th>lang_sk</th>\n",
       "      <th>lang_sl</th>\n",
       "      <th>lang_sv</th>\n",
       "      <th>lang_tr</th>\n",
       "      <th>lang_vi</th>\n",
       "    </tr>\n",
       "  </thead>\n",
       "  <tbody>\n",
       "    <tr>\n",
       "      <th>0</th>\n",
       "      <td>Realu se vážně zranil Asensio. Ceballos by měl...</td>\n",
       "      <td>Real Madrid potenciálně na celý ročník 2019/20...</td>\n",
       "      <td>Injuries</td>\n",
       "      <td>40</td>\n",
       "      <td>False</td>\n",
       "      <td>False</td>\n",
       "      <td>True</td>\n",
       "      <td>False</td>\n",
       "      <td>False</td>\n",
       "      <td>False</td>\n",
       "      <td>...</td>\n",
       "      <td>False</td>\n",
       "      <td>False</td>\n",
       "      <td>False</td>\n",
       "      <td>False</td>\n",
       "      <td>False</td>\n",
       "      <td>False</td>\n",
       "      <td>False</td>\n",
       "      <td>False</td>\n",
       "      <td>False</td>\n",
       "      <td>False</td>\n",
       "    </tr>\n",
       "    <tr>\n",
       "      <th>1</th>\n",
       "      <td>Problémy s koleny dohnaly Richardse k brzkému ...</td>\n",
       "      <td>Už ve 31 letech dohnaly neustálé problémy s ko...</td>\n",
       "      <td>Injuries</td>\n",
       "      <td>34</td>\n",
       "      <td>False</td>\n",
       "      <td>False</td>\n",
       "      <td>True</td>\n",
       "      <td>False</td>\n",
       "      <td>False</td>\n",
       "      <td>False</td>\n",
       "      <td>...</td>\n",
       "      <td>False</td>\n",
       "      <td>False</td>\n",
       "      <td>False</td>\n",
       "      <td>False</td>\n",
       "      <td>False</td>\n",
       "      <td>False</td>\n",
       "      <td>False</td>\n",
       "      <td>False</td>\n",
       "      <td>False</td>\n",
       "      <td>False</td>\n",
       "    </tr>\n",
       "    <tr>\n",
       "      <th>2</th>\n",
       "      <td>Verletzungspech bei Real - Kreuzband-Schock fü...</td>\n",
       "      <td>Schock bei Real Madrid! Marco Asensio erlitt i...</td>\n",
       "      <td>Injuries</td>\n",
       "      <td>24</td>\n",
       "      <td>False</td>\n",
       "      <td>False</td>\n",
       "      <td>False</td>\n",
       "      <td>False</td>\n",
       "      <td>True</td>\n",
       "      <td>False</td>\n",
       "      <td>...</td>\n",
       "      <td>False</td>\n",
       "      <td>False</td>\n",
       "      <td>False</td>\n",
       "      <td>False</td>\n",
       "      <td>False</td>\n",
       "      <td>False</td>\n",
       "      <td>False</td>\n",
       "      <td>False</td>\n",
       "      <td>False</td>\n",
       "      <td>False</td>\n",
       "    </tr>\n",
       "    <tr>\n",
       "      <th>3</th>\n",
       "      <td>Man Utd star Eric Bailly to miss ‘at least six...</td>\n",
       "      <td>MANCHESTER UNITED star Eric Bailly is set to m...</td>\n",
       "      <td>Injuries</td>\n",
       "      <td>57</td>\n",
       "      <td>False</td>\n",
       "      <td>False</td>\n",
       "      <td>False</td>\n",
       "      <td>False</td>\n",
       "      <td>False</td>\n",
       "      <td>False</td>\n",
       "      <td>...</td>\n",
       "      <td>False</td>\n",
       "      <td>False</td>\n",
       "      <td>False</td>\n",
       "      <td>False</td>\n",
       "      <td>False</td>\n",
       "      <td>False</td>\n",
       "      <td>False</td>\n",
       "      <td>False</td>\n",
       "      <td>False</td>\n",
       "      <td>False</td>\n",
       "    </tr>\n",
       "    <tr>\n",
       "      <th>4</th>\n",
       "      <td>Вутов под въпрос за мача с Левски</td>\n",
       "      <td>Един от основните футболисти на Ботев (Пловдив...</td>\n",
       "      <td>Injuries</td>\n",
       "      <td>22</td>\n",
       "      <td>True</td>\n",
       "      <td>False</td>\n",
       "      <td>False</td>\n",
       "      <td>False</td>\n",
       "      <td>False</td>\n",
       "      <td>False</td>\n",
       "      <td>...</td>\n",
       "      <td>False</td>\n",
       "      <td>False</td>\n",
       "      <td>False</td>\n",
       "      <td>False</td>\n",
       "      <td>False</td>\n",
       "      <td>False</td>\n",
       "      <td>False</td>\n",
       "      <td>False</td>\n",
       "      <td>False</td>\n",
       "      <td>False</td>\n",
       "    </tr>\n",
       "  </tbody>\n",
       "</table>\n",
       "<p>5 rows × 32 columns</p>\n",
       "</div>"
      ],
      "text/plain": [
       "                                               title  \\\n",
       "0  Realu se vážně zranil Asensio. Ceballos by měl...   \n",
       "1  Problémy s koleny dohnaly Richardse k brzkému ...   \n",
       "2  Verletzungspech bei Real - Kreuzband-Schock fü...   \n",
       "3  Man Utd star Eric Bailly to miss ‘at least six...   \n",
       "4                  Вутов под въпрос за мача с Левски   \n",
       "\n",
       "                                               perex     label  \\\n",
       "0  Real Madrid potenciálně na celý ročník 2019/20...  Injuries   \n",
       "1  Už ve 31 letech dohnaly neustálé problémy s ko...  Injuries   \n",
       "2  Schock bei Real Madrid! Marco Asensio erlitt i...  Injuries   \n",
       "3  MANCHESTER UNITED star Eric Bailly is set to m...  Injuries   \n",
       "4  Един от основните футболисти на Ботев (Пловдив...  Injuries   \n",
       "\n",
       "   perex_word_count  lang_bg  lang_ca  lang_cs  lang_da  lang_de  lang_el  \\\n",
       "0                40    False    False     True    False    False    False   \n",
       "1                34    False    False     True    False    False    False   \n",
       "2                24    False    False    False    False     True    False   \n",
       "3                57    False    False    False    False    False    False   \n",
       "4                22     True    False    False    False    False    False   \n",
       "\n",
       "   ...  lang_no  lang_pl  lang_pt  lang_ro  lang_ru  lang_sk  lang_sl  \\\n",
       "0  ...    False    False    False    False    False    False    False   \n",
       "1  ...    False    False    False    False    False    False    False   \n",
       "2  ...    False    False    False    False    False    False    False   \n",
       "3  ...    False    False    False    False    False    False    False   \n",
       "4  ...    False    False    False    False    False    False    False   \n",
       "\n",
       "   lang_sv  lang_tr  lang_vi  \n",
       "0    False    False    False  \n",
       "1    False    False    False  \n",
       "2    False    False    False  \n",
       "3    False    False    False  \n",
       "4    False    False    False  \n",
       "\n",
       "[5 rows x 32 columns]"
      ]
     },
     "execution_count": 86,
     "metadata": {},
     "output_type": "execute_result"
    }
   ],
   "source": [
    "df = pd.get_dummies(df, columns=['language'], prefix='lang', dummy_na=False)\n",
    "df.head()"
   ]
  },
  {
   "cell_type": "markdown",
   "id": "0c7d6bab",
   "metadata": {},
   "source": [
    "Remove punctuation from title and perex columns:"
   ]
  },
  {
   "cell_type": "code",
   "execution_count": 89,
   "id": "e715ca79",
   "metadata": {},
   "outputs": [],
   "source": [
    "import regex as re\n",
    "\n",
    "\n",
    "def preprocess_text(text):\n",
    "    if not isinstance(text, str):\n",
    "        return \"\"\n",
    "    \n",
    "    # Remove punctuation but keep all letters/numbers\n",
    "    text = re.sub(r'[^\\p{L}\\d\\s]', ' ', text)\n",
    "    text = re.sub(r'\\s+', ' ', text).strip()\n",
    "    \n",
    "    return text.lower()\n"
   ]
  },
  {
   "cell_type": "code",
   "execution_count": 90,
   "id": "5307f993",
   "metadata": {},
   "outputs": [],
   "source": [
    "df['title'] = df['title'].apply(preprocess_text)\n",
    "df['perex'] = df['perex'].apply(preprocess_text)"
   ]
  },
  {
   "cell_type": "code",
   "execution_count": 91,
   "id": "b2e0254a",
   "metadata": {},
   "outputs": [
    {
     "data": {
      "text/plain": [
       "0    real madrid potenciálně na celý ročník 2019 20...\n",
       "1    už ve 31 letech dohnaly neustálé problémy s ko...\n",
       "2    schock bei real madrid marco asensio erlitt im...\n",
       "3    manchester united star eric bailly is set to m...\n",
       "4    един от основните футболисти на ботев пловдив ...\n",
       "Name: perex, dtype: object"
      ]
     },
     "execution_count": 91,
     "metadata": {},
     "output_type": "execute_result"
    }
   ],
   "source": [
    "df['perex'].head()"
   ]
  },
  {
   "cell_type": "markdown",
   "id": "de1b26bc",
   "metadata": {},
   "source": [
    "Split dataframe into y(target value) and X(parameters) :"
   ]
  },
  {
   "cell_type": "code",
   "execution_count": 92,
   "id": "2f01bf1e",
   "metadata": {},
   "outputs": [],
   "source": [
    "Xdata = df.drop(columns=['label'])\n",
    "y = df['label']"
   ]
  },
  {
   "cell_type": "markdown",
   "id": "fcf73498",
   "metadata": {},
   "source": [
    "Transform labels into numerics:"
   ]
  },
  {
   "cell_type": "code",
   "execution_count": 93,
   "id": "1373e1a6",
   "metadata": {},
   "outputs": [
    {
     "name": "stdout",
     "output_type": "stream",
     "text": [
      "[0 0 0 ... 5 5 5]\n"
     ]
    }
   ],
   "source": [
    "le = LabelEncoder()\n",
    "y = le.fit_transform(y)\n",
    "print(y)\n"
   ]
  },
  {
   "cell_type": "markdown",
   "id": "585b0a83",
   "metadata": {},
   "source": [
    "Split data into train,val,test "
   ]
  },
  {
   "cell_type": "code",
   "execution_count": 94,
   "id": "98e8697c",
   "metadata": {},
   "outputs": [],
   "source": [
    "Xtrain_raw, Xtest_raw, ytrain, ytest = train_test_split(Xdata, y, test_size=0.4, random_state=seed) \n",
    "Xtest_raw, Xval_raw, ytest, yval = train_test_split (Xtest_raw,ytest, test_size= 0.5, random_state=seed)\n"
   ]
  },
  {
   "cell_type": "markdown",
   "id": "c4d990bf",
   "metadata": {},
   "source": [
    "Transform the rest:"
   ]
  },
  {
   "cell_type": "code",
   "execution_count": 95,
   "id": "954276fd",
   "metadata": {},
   "outputs": [
    {
     "data": {
      "text/plain": [
       "(900, 1)"
      ]
     },
     "execution_count": 95,
     "metadata": {},
     "output_type": "execute_result"
    }
   ],
   "source": [
    "#scale numerical features\n",
    "SS = StandardScaler()\n",
    "Xtrain_num = SS.fit_transform(Xtrain_raw[['perex_word_count']])\n",
    "Xval_num = SS.transform(Xval_raw[['perex_word_count']])\n",
    "Xtest_num = SS.transform(Xtest_raw[['perex_word_count']])\n",
    "Xtrain_num.shape\n"
   ]
  },
  {
   "cell_type": "code",
   "execution_count": 96,
   "id": "cd718419",
   "metadata": {},
   "outputs": [],
   "source": [
    "# TF-IDF Vectorization for 'title' and 'perex'\n",
    "title_vectorizer = TfidfVectorizer(max_features=1000, ngram_range=(1,2))\n",
    "perex_vectorizer = TfidfVectorizer(max_features=2000, ngram_range=(1,2))\n",
    "\n",
    "# Fit on training data\n",
    "Xtrain_title = title_vectorizer.fit_transform(Xtrain_raw['title'])\n",
    "Xtrain_perex = perex_vectorizer.fit_transform(Xtrain_raw['perex'])\n",
    "\n",
    "# Transform validation and test data\n",
    "Xval_title = title_vectorizer.transform(Xval_raw['title'])\n",
    "Xval_perex = perex_vectorizer.transform(Xval_raw['perex'])\n",
    "\n",
    "Xtest_title = title_vectorizer.transform(Xtest_raw['title'])\n",
    "Xtest_perex = perex_vectorizer.transform(Xtest_raw['perex'])"
   ]
  },
  {
   "cell_type": "markdown",
   "id": "af426557",
   "metadata": {},
   "source": [
    "combine all features:"
   ]
  },
  {
   "cell_type": "code",
   "execution_count": 97,
   "id": "ef678a98",
   "metadata": {},
   "outputs": [],
   "source": [
    "from scipy.sparse import hstack,csr_matrix\n",
    "import numpy as np\n",
    "\n",
    "\n",
    "Xtrain_lang = Xtrain_raw.filter(like='lang_').to_numpy()\n",
    "Xval_lang = Xval_raw.filter(like='lang_').to_numpy()\n",
    "Xtest_lang = Xtest_raw.filter(like='lang_').to_numpy()\n",
    "#convert numerical and language features to sparse matrices\n",
    "Xtrain_num_sparse = csr_matrix(Xtrain_num)\n",
    "Xval_num_sparse = csr_matrix(Xval_num)\n",
    "Xtest_num_sparse = csr_matrix(Xtest_num)\n",
    "\n",
    "Xtrain_lang_sparse = csr_matrix(Xtrain_lang)\n",
    "Xval_lang_sparse = csr_matrix(Xval_lang)\n",
    "Xtest_lang_sparse = csr_matrix(Xtest_lang)\n",
    "\n",
    "Xtrain_full = hstack([Xtrain_title, Xtrain_perex, Xtrain_num,Xtrain_lang])\n",
    "Xval_full = hstack([Xval_title, Xval_perex, Xval_num,Xval_lang])\n",
    "Xtest_full = hstack([Xtest_title, Xtest_perex, Xtest_num,Xtest_lang])"
   ]
  },
  {
   "cell_type": "code",
   "execution_count": 98,
   "id": "e982cc76",
   "metadata": {},
   "outputs": [
    {
     "data": {
      "text/plain": [
       "(900, 3029)"
      ]
     },
     "execution_count": 98,
     "metadata": {},
     "output_type": "execute_result"
    }
   ],
   "source": [
    "Xtrain_full.shape"
   ]
  },
  {
   "cell_type": "markdown",
   "id": "e941a0e4",
   "metadata": {},
   "source": [
    "##  Train Different models:"
   ]
  },
  {
   "cell_type": "markdown",
   "id": "d63e7d78",
   "metadata": {},
   "source": [
    "### logistic regression model: "
   ]
  },
  {
   "cell_type": "code",
   "execution_count": null,
   "id": "85083787",
   "metadata": {},
   "outputs": [],
   "source": [
    "param_grid_logr = {\n",
    "    'max_iter' : [1200,1500,2000],\n",
    "    'solver': ['saga'],\n",
    "    'C': np.arange(0.1, 2.0, 0.2),\n",
    "    'n_jobs': [-1]\n",
    "}\n",
    "\n",
    "param_comb = ParameterGrid(param_grid_logr)\n",
    "val_metric = []\n",
    "for params in param_comb:\n",
    "    clf_logr = LogisticRegression(**params)\n",
    "    clf_logr.fit(Xtrain_full,ytrain)\n",
    "    val_metric.append(clf_logr.score(Xval_full, yval))\n",
    "\n"
   ]
  },
  {
   "cell_type": "code",
   "execution_count": 100,
   "id": "2cb4c2f5",
   "metadata": {},
   "outputs": [
    {
     "name": "stdout",
     "output_type": "stream",
     "text": [
      "We found the best params {'solver': 'saga', 'n_jobs': -1, 'max_iter': 1200, 'C': np.float64(1.9000000000000004)} with accuracy score 0.80333.\n"
     ]
    }
   ],
   "source": [
    "best_params_logr = param_comb[np.argmax(val_metric)]\n",
    "clf_logr_fc = LogisticRegression(**best_params_logr)\n",
    "clf_logr_fc.fit(Xtrain_full,ytrain)\n",
    "print(f\"We found the best params {best_params_logr} with accuracy score {max(val_metric):.5f}.\")"
   ]
  },
  {
   "cell_type": "markdown",
   "id": "8ac61fe4",
   "metadata": {},
   "source": [
    "We got ~80% accuracy, now try different models "
   ]
  },
  {
   "cell_type": "markdown",
   "id": "8bbbd517",
   "metadata": {},
   "source": [
    "### Decision tree model"
   ]
  },
  {
   "cell_type": "code",
   "execution_count": 101,
   "id": "e1907387",
   "metadata": {},
   "outputs": [],
   "source": [
    "from sklearn.tree import DecisionTreeClassifier\n",
    "\n",
    "param_grid_dt = {\n",
    "    'criterion': ['gini', 'entropy'],\n",
    "    'max_depth': range(10, 50, 5),\n",
    "    'min_samples_split': [2, 5, 10],\n",
    "    'min_samples_leaf': [1, 2, 4],\n",
    "    'max_features': [None, 'sqrt', 'log2']\n",
    "}\n",
    "\n",
    "param_comb = ParameterGrid(param_grid_dt)\n",
    "val_metric = []\n",
    "for params in param_comb:\n",
    "    clf_dt = DecisionTreeClassifier(**params)\n",
    "    clf_dt.fit(Xtrain_full,ytrain)\n",
    "    val_metric.append(clf_dt.score(Xval_full, yval))\n"
   ]
  },
  {
   "cell_type": "code",
   "execution_count": 102,
   "id": "eebda0bb",
   "metadata": {},
   "outputs": [
    {
     "name": "stdout",
     "output_type": "stream",
     "text": [
      "We found the best params {'min_samples_split': 5, 'min_samples_leaf': 2, 'max_features': None, 'max_depth': 10, 'criterion': 'entropy'} with accuracy score 0.75333.\n"
     ]
    }
   ],
   "source": [
    "best_params_dt = param_comb[np.argmax(val_metric)]\n",
    "clf_dt_fc = DecisionTreeClassifier(**best_params_dt)\n",
    "clf_dt_fc.fit(Xtrain_full,ytrain)\n",
    "print(f\"We found the best params {best_params_dt} with accuracy score {max(val_metric):.5f}.\")"
   ]
  },
  {
   "cell_type": "markdown",
   "id": "ef947d1f",
   "metadata": {},
   "source": [
    "Decision tree didn't show a better result with only ~75.3% accuracy"
   ]
  },
  {
   "cell_type": "markdown",
   "id": "ddd6edff",
   "metadata": {},
   "source": [
    "### SVM model:"
   ]
  },
  {
   "cell_type": "code",
   "execution_count": 103,
   "id": "4c5c5d22",
   "metadata": {},
   "outputs": [],
   "source": [
    "from sklearn.svm import SVC\n",
    "\n",
    "param_grid = {\n",
    "    'kernel': ['linear', 'poly', 'rbf', 'sigmoid'],\n",
    "    'degree': range (2,10,2),\n",
    "    'C': np.arange(0.1, 2.0, 0.2)\n",
    "}\n",
    "#find the best parameters\n",
    "param_comb = ParameterGrid(param_grid)\n",
    "val_metric = []\n",
    "for params in param_comb:\n",
    "    clf_SVC = SVC(**params)\n",
    "    clf_SVC.fit(Xtrain_full,ytrain)\n",
    "    val_metric.append(clf_SVC.score(Xval_full, yval))\n",
    "    \n",
    "\n"
   ]
  },
  {
   "cell_type": "code",
   "execution_count": 104,
   "id": "567b5ceb",
   "metadata": {},
   "outputs": [
    {
     "name": "stdout",
     "output_type": "stream",
     "text": [
      "We found the best params {'kernel': 'linear', 'degree': 2, 'C': np.float64(0.7000000000000001)} with accuracy score 0.83667.\n"
     ]
    }
   ],
   "source": [
    "best_params_SVC = param_comb[np.argmax(val_metric)]\n",
    "clf_SVC_fc = SVC(**best_params_SVC)\n",
    "clf_SVC_fc.fit(Xtrain_full,ytrain)\n",
    "print(f\"We found the best params {best_params_SVC} with accuracy score {max(val_metric):.5f}.\")"
   ]
  },
  {
   "cell_type": "markdown",
   "id": "697adb7e",
   "metadata": {},
   "source": [
    "SVC model showed the best result by far for now with ~83.6% accuracy score "
   ]
  },
  {
   "cell_type": "markdown",
   "id": "2afa252f",
   "metadata": {},
   "source": [
    "### Naive bayes model:"
   ]
  },
  {
   "cell_type": "markdown",
   "id": "33de1b60",
   "metadata": {},
   "source": [
    "MultinomialNB is the sparse-friendly classifier,for it we'll use only TF-IDF features perex and title"
   ]
  },
  {
   "cell_type": "code",
   "execution_count": 107,
   "id": "70e7763f",
   "metadata": {},
   "outputs": [],
   "source": [
    "Xtrain_text = hstack([Xtrain_title, Xtrain_perex])\n",
    "Xval_text = hstack([Xval_title, Xval_perex])\n",
    "Xtest_text = hstack([Xtest_title, Xtest_perex])"
   ]
  },
  {
   "cell_type": "code",
   "execution_count": 113,
   "id": "9f9799f1",
   "metadata": {},
   "outputs": [],
   "source": [
    "from sklearn.naive_bayes import MultinomialNB\n",
    "param_grid = {\n",
    "    'alpha': np.arange(0.01, 2.0, 0.1),\n",
    "}\n",
    "\n",
    "param_comb = ParameterGrid(param_grid)\n",
    "val_metric = []\n",
    "for params in param_comb:\n",
    "    clf_MNB = MultinomialNB(**params)\n",
    "    clf_MNB.fit(Xtrain_text, ytrain)\n",
    "    val_metric.append(clf_MNB.score(Xval_text, yval))\n"
   ]
  },
  {
   "cell_type": "code",
   "execution_count": 114,
   "id": "bb8b760f",
   "metadata": {},
   "outputs": [
    {
     "name": "stdout",
     "output_type": "stream",
     "text": [
      "We found the best params {'alpha': np.float64(0.31000000000000005)} with accuracy score 0.82667.\n"
     ]
    }
   ],
   "source": [
    "best_params_MNB = param_comb[np.argmax(val_metric)]\n",
    "clf_MNB_fc = MultinomialNB(**best_params_MNB)\n",
    "clf_MNB_fc.fit(Xtrain_text,ytrain)\n",
    "print(f\"We found the best params {best_params_MNB} with accuracy score {max(val_metric):.5f}.\")"
   ]
  },
  {
   "cell_type": "markdown",
   "id": "08d7e2d2",
   "metadata": {},
   "source": [
    "Naive Bayes model showed the second best accuracy score of 82.6%"
   ]
  },
  {
   "cell_type": "markdown",
   "id": "84bef03a",
   "metadata": {},
   "source": [
    "### Try applying TruncatedSVD method"
   ]
  },
  {
   "cell_type": "code",
   "execution_count": 124,
   "id": "b18a5f43",
   "metadata": {},
   "outputs": [],
   "source": [
    "from sklearn.decomposition import TruncatedSVD\n",
    "\n",
    "svd = TruncatedSVD(n_components=200, random_state=seed)\n",
    "# transform text features using SVD\n",
    "Xtrain_text_svd = svd.fit_transform(Xtrain_text)\n",
    "Xval_text_svd = svd.transform(Xval_text)\n"
   ]
  },
  {
   "cell_type": "markdown",
   "id": "1ebf1b15",
   "metadata": {},
   "source": [
    "#### Logistic Regression model:"
   ]
  },
  {
   "cell_type": "code",
   "execution_count": 125,
   "id": "c01cdb57",
   "metadata": {},
   "outputs": [],
   "source": [
    "param_grid_logr = {\n",
    "    'max_iter' : [1200,1500,2000],\n",
    "    'solver': ['saga'],\n",
    "    'C': np.arange(0.1, 2.0, 0.2),\n",
    "    'n_jobs': [-1]\n",
    "}\n",
    "\n",
    "param_comb = ParameterGrid(param_grid_logr)\n",
    "val_metric = []\n",
    "for params in param_comb:\n",
    "    clf_logr_svd = LogisticRegression(**params)\n",
    "    clf_logr_svd.fit(Xtrain_text_svd,ytrain)\n",
    "    val_metric.append(clf_logr_svd.score(Xval_text_svd, yval))\n",
    "\n"
   ]
  },
  {
   "cell_type": "code",
   "execution_count": null,
   "id": "92d72cb5",
   "metadata": {},
   "outputs": [
    {
     "name": "stdout",
     "output_type": "stream",
     "text": [
      "We found the best params {'solver': 'saga', 'n_jobs': -1, 'max_iter': 1200, 'C': np.float64(1.9000000000000004)} with accuracy score 0.78000.\n"
     ]
    }
   ],
   "source": [
    "best_params_logr_svd = param_comb[np.argmax(val_metric)]\n",
    "clf_logr_svd_fc = LogisticRegression(**best_params_logr_svd)\n",
    "clf_logr_svd_fc.fit(Xtrain_text_svd,ytrain)\n",
    "print(f\"We found the best params {best_params_logr_svd} with accuracy score {max(val_metric):.5f}.\")"
   ]
  },
  {
   "cell_type": "markdown",
   "id": "17d34419",
   "metadata": {},
   "source": [
    "SVD transform didn't improve the logistic regression model"
   ]
  },
  {
   "cell_type": "markdown",
   "id": "159eb0c6",
   "metadata": {},
   "source": [
    "#### SVM model with SVD transform"
   ]
  },
  {
   "cell_type": "code",
   "execution_count": 127,
   "id": "1244dc41",
   "metadata": {},
   "outputs": [],
   "source": [
    "\n",
    "\n",
    "param_grid = {\n",
    "    'kernel': ['linear', 'poly', 'rbf', 'sigmoid'],\n",
    "    'degree': range (2,10,2),\n",
    "    'C': np.arange(0.1, 2.0, 0.2)\n",
    "}\n",
    "#find the best parameters\n",
    "param_comb = ParameterGrid(param_grid)\n",
    "val_metric = []\n",
    "for params in param_comb:\n",
    "    clf_SVC_svd = SVC(**params)\n",
    "    clf_SVC_svd.fit(Xtrain_text_svd,ytrain)\n",
    "    val_metric.append(clf_SVC_svd.score(Xval_text_svd, yval))\n",
    "    \n",
    "\n"
   ]
  },
  {
   "cell_type": "code",
   "execution_count": 129,
   "id": "5c235f31",
   "metadata": {},
   "outputs": [
    {
     "name": "stdout",
     "output_type": "stream",
     "text": [
      "We found the best params {'kernel': 'rbf', 'degree': 2, 'C': np.float64(1.7000000000000004)} with accuracy score 0.81667.\n"
     ]
    }
   ],
   "source": [
    "best_params_SVC_svd = param_comb[np.argmax(val_metric)]\n",
    "clf_SVC_svd_fc = SVC(**best_params_SVC_svd)\n",
    "clf_SVC_svd_fc.fit(Xtrain_text_svd,ytrain)\n",
    "print(f\"We found the best params {best_params_SVC_svd} with accuracy score {max(val_metric):.5f}.\")"
   ]
  },
  {
   "cell_type": "markdown",
   "id": "b89fdf40",
   "metadata": {},
   "source": [
    "SVC model result also didn't improve with SVD method"
   ]
  },
  {
   "cell_type": "markdown",
   "id": "f75fd19e",
   "metadata": {},
   "source": [
    "## Conclusion:\n",
    "\n",
    "from all attempted models, simple SVC model got the best accuracy score of ~83.6%, therefore it will be the final model"
   ]
  },
  {
   "cell_type": "code",
   "execution_count": 137,
   "id": "6709bce3",
   "metadata": {},
   "outputs": [
    {
     "name": "stdout",
     "output_type": "stream",
     "text": [
      " Accuracy score on the test data for the final model is: 0.78000.\n"
     ]
    }
   ],
   "source": [
    "clf_final = clf_SVC_fc\n",
    "\n",
    "# get the test accuracy\n",
    "print(f\" Accuracy score on the test data for the final model is: {clf_final.score(Xtest_full, ytest):.5f}.\")\n"
   ]
  },
  {
   "cell_type": "markdown",
   "id": "9973e642",
   "metadata": {},
   "source": [
    "Accuracy of the final model is 0.78%"
   ]
  }
 ],
 "metadata": {
  "kernelspec": {
   "display_name": "Python 3",
   "language": "python",
   "name": "python3"
  },
  "language_info": {
   "codemirror_mode": {
    "name": "ipython",
    "version": 3
   },
   "file_extension": ".py",
   "mimetype": "text/x-python",
   "name": "python",
   "nbconvert_exporter": "python",
   "pygments_lexer": "ipython3",
   "version": "3.13.9"
  }
 },
 "nbformat": 4,
 "nbformat_minor": 5
}
